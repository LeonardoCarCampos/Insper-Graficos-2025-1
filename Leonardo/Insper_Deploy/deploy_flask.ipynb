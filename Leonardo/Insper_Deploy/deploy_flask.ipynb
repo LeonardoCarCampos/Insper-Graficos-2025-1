{
 "cells": [
  {
   "cell_type": "code",
   "execution_count": 2,
   "id": "665411d3-d99f-46ff-a7a7-10f2fa1e7257",
   "metadata": {},
   "outputs": [
    {
     "name": "stdout",
     "output_type": "stream",
     "text": [
      "Overwriting app.py\n"
     ]
    }
   ],
   "source": [
    "%%writefile app.py\n",
    "from flask import Flask\n",
    "\n",
    "app = Flask(__name__)\n",
    "\n",
    "@app.route(\"/\")\n",
    "def home():\n",
    "    return \"Hello, Flask no Jupyter!\"\n",
    "\n",
    "if __name__ == \"__main__\":\n",
    "    app.run(debug=True)\n"
   ]
  },
  {
   "cell_type": "code",
   "execution_count": null,
   "id": "9c4c90b2-e10e-4dcc-9950-d45f52445dad",
   "metadata": {},
   "outputs": [],
   "source": [
    "git clone https://github.com/LeonardoCarCampos/Insper-Graficos-2025-1.git"
   ]
  },
  {
   "cell_type": "code",
   "execution_count": null,
   "id": "724f044d-ebc1-4663-85b0-b1f76c8b2fb5",
   "metadata": {},
   "outputs": [],
   "source": []
  }
 ],
 "metadata": {
  "kernelspec": {
   "display_name": "Python 3 (ipykernel)",
   "language": "python",
   "name": "python3"
  },
  "language_info": {
   "codemirror_mode": {
    "name": "ipython",
    "version": 3
   },
   "file_extension": ".py",
   "mimetype": "text/x-python",
   "name": "python",
   "nbconvert_exporter": "python",
   "pygments_lexer": "ipython3",
   "version": "3.12.4"
  }
 },
 "nbformat": 4,
 "nbformat_minor": 5
}
